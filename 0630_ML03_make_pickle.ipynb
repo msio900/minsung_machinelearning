{
 "cells": [
  {
   "cell_type": "code",
   "execution_count": 1,
   "id": "fbe278fc",
   "metadata": {},
   "outputs": [],
   "source": [
    "import pickle"
   ]
  },
  {
   "cell_type": "code",
   "execution_count": 2,
   "id": "17148d90",
   "metadata": {},
   "outputs": [],
   "source": [
    "favorite = {'lion':'yellow', 'tiger':'red'}"
   ]
  },
  {
   "cell_type": "code",
   "execution_count": 3,
   "id": "a1cea1b5",
   "metadata": {},
   "outputs": [],
   "source": [
    "# as machine learning, faborite --> model variable\n",
    "pickle.dump(favorite, open('./saves/favorite_save.pkl','wb'))"
   ]
  },
  {
   "cell_type": "code",
   "execution_count": null,
   "id": "6a19852a",
   "metadata": {},
   "outputs": [],
   "source": []
  }
 ],
 "metadata": {
  "kernelspec": {
   "display_name": "Python 3",
   "language": "python",
   "name": "python3"
  },
  "language_info": {
   "codemirror_mode": {
    "name": "ipython",
    "version": 3
   },
   "file_extension": ".py",
   "mimetype": "text/x-python",
   "name": "python",
   "nbconvert_exporter": "python",
   "pygments_lexer": "ipython3",
   "version": "3.6.4"
  }
 },
 "nbformat": 4,
 "nbformat_minor": 5
}
