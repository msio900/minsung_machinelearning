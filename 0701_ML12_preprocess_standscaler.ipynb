{
 "cells": [
  {
   "cell_type": "code",
   "execution_count": 1,
   "id": "cfcc1bf6",
   "metadata": {},
   "outputs": [],
   "source": [
    ">>> data = [[0, 0], [0,0], [1,1], [1,1]]"
   ]
  },
  {
   "cell_type": "code",
   "execution_count": null,
   "id": "f792521d",
   "metadata": {},
   "outputs": [],
   "source": [
    ">>> from "
   ]
  },
  {
   "cell_type": "markdown",
   "id": "7203b2e9",
   "metadata": {},
   "source": [
    "# 프리프로세싱을 해야한다."
   ]
  },
  {
   "cell_type": "code",
   "execution_count": null,
   "id": "1f07ba46",
   "metadata": {},
   "outputs": [],
   "source": []
  }
 ],
 "metadata": {
  "kernelspec": {
   "display_name": "Python 3",
   "language": "python",
   "name": "python3"
  },
  "language_info": {
   "codemirror_mode": {
    "name": "ipython",
    "version": 3
   },
   "file_extension": ".py",
   "mimetype": "text/x-python",
   "name": "python",
   "nbconvert_exporter": "python",
   "pygments_lexer": "ipython3",
   "version": "3.6.4"
  }
 },
 "nbformat": 4,
 "nbformat_minor": 5
}
