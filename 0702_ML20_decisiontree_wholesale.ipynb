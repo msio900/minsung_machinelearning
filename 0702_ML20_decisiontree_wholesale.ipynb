{
  "nbformat": 4,
  "nbformat_minor": 0,
  "metadata": {
    "colab": {
      "name": "0702_ML20_decisiontree_wholesale.ipynb",
      "provenance": [],
      "authorship_tag": "ABX9TyMempPQ3XDk6RXDUv9sbTMA"
    },
    "kernelspec": {
      "name": "python3",
      "display_name": "Python 3"
    },
    "language_info": {
      "name": "python"
    }
  },
  "cells": [
    {
      "cell_type": "markdown",
      "metadata": {
        "id": "8NIU9-otft3P"
      },
      "source": [
        "## 리눅스 명령어\n"
      ]
    },
    {
      "cell_type": "code",
      "metadata": {
        "colab": {
          "base_uri": "https://localhost:8080/"
        },
        "id": "hMZyTxdMek7u",
        "outputId": "27cb4048-3d39-46eb-91d1-7c6875f970bd"
      },
      "source": [
        "!ls"
      ],
      "execution_count": null,
      "outputs": [
        {
          "output_type": "stream",
          "text": [
            "sample_data  Wholesale_customers_data.csv\n"
          ],
          "name": "stdout"
        }
      ]
    },
    {
      "cell_type": "code",
      "metadata": {
        "colab": {
          "base_uri": "https://localhost:8080/"
        },
        "id": "u9m-7LNyfXX1",
        "outputId": "9965c9b4-8322-4461-88ce-a51871bc3442"
      },
      "source": [
        "!ls -l"
      ],
      "execution_count": null,
      "outputs": [
        {
          "output_type": "stream",
          "text": [
            "total 20\n",
            "drwxr-xr-x 1 root root  4096 Jun 15 13:37 sample_data\n",
            "-rw-r--r-- 1 root root 15021 Jul  2 05:28 Wholesale_customers_data.csv\n"
          ],
          "name": "stdout"
        }
      ]
    },
    {
      "cell_type": "code",
      "metadata": {
        "colab": {
          "base_uri": "https://localhost:8080/"
        },
        "id": "SlNIFKN_fi36",
        "outputId": "2091d491-be1e-47df-b9a1-f879300afba6"
      },
      "source": [
        "!pwd  # 현재 위치"
      ],
      "execution_count": null,
      "outputs": [
        {
          "output_type": "stream",
          "text": [
            "/content\n"
          ],
          "name": "stdout"
        }
      ]
    },
    {
      "cell_type": "code",
      "metadata": {
        "colab": {
          "base_uri": "https://localhost:8080/"
        },
        "id": "0oc_SbOzfzMW",
        "outputId": "d6f6e10a-9d5b-4106-ca0a-b7fea120d033"
      },
      "source": [
        "!ls -l ./sample_data"
      ],
      "execution_count": null,
      "outputs": [
        {
          "output_type": "stream",
          "text": [
            "total 55504\n",
            "-rwxr-xr-x 1 root root     1697 Jan  1  2000 anscombe.json\n",
            "-rw-r--r-- 1 root root   301141 Jun 15 13:37 california_housing_test.csv\n",
            "-rw-r--r-- 1 root root  1706430 Jun 15 13:37 california_housing_train.csv\n",
            "-rw-r--r-- 1 root root 18289443 Jun 15 13:37 mnist_test.csv\n",
            "-rw-r--r-- 1 root root 36523880 Jun 15 13:37 mnist_train_small.csv\n",
            "-rwxr-xr-x 1 root root      930 Jan  1  2000 README.md\n"
          ],
          "name": "stdout"
        }
      ]
    },
    {
      "cell_type": "code",
      "metadata": {
        "colab": {
          "base_uri": "https://localhost:8080/"
        },
        "id": "AzwgIvrKguIA",
        "outputId": "a48f9503-5811-442a-fda9-93ad5a91c06a"
      },
      "source": [
        "!ls -l ./"
      ],
      "execution_count": null,
      "outputs": [
        {
          "output_type": "stream",
          "text": [
            "total 20\n",
            "drwxr-xr-x 1 root root  4096 Jun 15 13:37 sample_data\n",
            "-rw-r--r-- 1 root root 15021 Jul  2 05:28 Wholesale_customers_data.csv\n"
          ],
          "name": "stdout"
        }
      ]
    },
    {
      "cell_type": "code",
      "metadata": {
        "colab": {
          "base_uri": "https://localhost:8080/"
        },
        "id": "rjWZY-3vjMCB",
        "outputId": "0df01e5d-b939-4bd1-bc64-d5e2250aaa6d"
      },
      "source": [
        "!ls -l ./wholesale.xls"
      ],
      "execution_count": 1,
      "outputs": [
        {
          "output_type": "stream",
          "text": [
            "-rw-r--r-- 1 root root 46592 Jul  2 06:38 ./wholesale.xls\n"
          ],
          "name": "stdout"
        }
      ]
    },
    {
      "cell_type": "code",
      "metadata": {
        "colab": {
          "base_uri": "https://localhost:8080/"
        },
        "id": "6_DGbx63isb2",
        "outputId": "63c35b7e-09e1-498f-c023-2cd27b40f996"
      },
      "source": [
        "import pandas as pd\n",
        "df = pd.read_excel('./wholesale.xls')\n",
        "df.info()"
      ],
      "execution_count": 2,
      "outputs": [
        {
          "output_type": "stream",
          "text": [
            "<class 'pandas.core.frame.DataFrame'>\n",
            "RangeIndex: 440 entries, 0 to 439\n",
            "Data columns (total 10 columns):\n",
            " #   Column            Non-Null Count  Dtype\n",
            "---  ------            --------------  -----\n",
            " 0   Unnamed: 0        440 non-null    int64\n",
            " 1   Channel           440 non-null    int64\n",
            " 2   Region            440 non-null    int64\n",
            " 3   Fresh             440 non-null    int64\n",
            " 4   Milk              440 non-null    int64\n",
            " 5   Grocery           440 non-null    int64\n",
            " 6   Frozen            440 non-null    int64\n",
            " 7   Detergents_Paper  440 non-null    int64\n",
            " 8   Delicassen        440 non-null    int64\n",
            " 9   label             440 non-null    int64\n",
            "dtypes: int64(10)\n",
            "memory usage: 34.5 KB\n"
          ],
          "name": "stdout"
        }
      ]
    },
    {
      "cell_type": "code",
      "metadata": {
        "colab": {
          "base_uri": "https://localhost:8080/",
          "height": 204
        },
        "id": "eIF_ppmu8jwO",
        "outputId": "8d5d549c-9c35-44c9-d70d-3476928ae3e0"
      },
      "source": [
        "df.head(5)"
      ],
      "execution_count": 3,
      "outputs": [
        {
          "output_type": "execute_result",
          "data": {
            "text/html": [
              "<div>\n",
              "<style scoped>\n",
              "    .dataframe tbody tr th:only-of-type {\n",
              "        vertical-align: middle;\n",
              "    }\n",
              "\n",
              "    .dataframe tbody tr th {\n",
              "        vertical-align: top;\n",
              "    }\n",
              "\n",
              "    .dataframe thead th {\n",
              "        text-align: right;\n",
              "    }\n",
              "</style>\n",
              "<table border=\"1\" class=\"dataframe\">\n",
              "  <thead>\n",
              "    <tr style=\"text-align: right;\">\n",
              "      <th></th>\n",
              "      <th>Unnamed: 0</th>\n",
              "      <th>Channel</th>\n",
              "      <th>Region</th>\n",
              "      <th>Fresh</th>\n",
              "      <th>Milk</th>\n",
              "      <th>Grocery</th>\n",
              "      <th>Frozen</th>\n",
              "      <th>Detergents_Paper</th>\n",
              "      <th>Delicassen</th>\n",
              "      <th>label</th>\n",
              "    </tr>\n",
              "  </thead>\n",
              "  <tbody>\n",
              "    <tr>\n",
              "      <th>0</th>\n",
              "      <td>0</td>\n",
              "      <td>2</td>\n",
              "      <td>3</td>\n",
              "      <td>12669</td>\n",
              "      <td>9656</td>\n",
              "      <td>7561</td>\n",
              "      <td>214</td>\n",
              "      <td>2674</td>\n",
              "      <td>1338</td>\n",
              "      <td>1</td>\n",
              "    </tr>\n",
              "    <tr>\n",
              "      <th>1</th>\n",
              "      <td>1</td>\n",
              "      <td>2</td>\n",
              "      <td>3</td>\n",
              "      <td>7057</td>\n",
              "      <td>9810</td>\n",
              "      <td>9568</td>\n",
              "      <td>1762</td>\n",
              "      <td>3293</td>\n",
              "      <td>1776</td>\n",
              "      <td>1</td>\n",
              "    </tr>\n",
              "    <tr>\n",
              "      <th>2</th>\n",
              "      <td>2</td>\n",
              "      <td>2</td>\n",
              "      <td>3</td>\n",
              "      <td>6353</td>\n",
              "      <td>8808</td>\n",
              "      <td>7684</td>\n",
              "      <td>2405</td>\n",
              "      <td>3516</td>\n",
              "      <td>7844</td>\n",
              "      <td>1</td>\n",
              "    </tr>\n",
              "    <tr>\n",
              "      <th>3</th>\n",
              "      <td>3</td>\n",
              "      <td>1</td>\n",
              "      <td>3</td>\n",
              "      <td>13265</td>\n",
              "      <td>1196</td>\n",
              "      <td>4221</td>\n",
              "      <td>6404</td>\n",
              "      <td>507</td>\n",
              "      <td>1788</td>\n",
              "      <td>0</td>\n",
              "    </tr>\n",
              "    <tr>\n",
              "      <th>4</th>\n",
              "      <td>4</td>\n",
              "      <td>2</td>\n",
              "      <td>3</td>\n",
              "      <td>22615</td>\n",
              "      <td>5410</td>\n",
              "      <td>7198</td>\n",
              "      <td>3915</td>\n",
              "      <td>1777</td>\n",
              "      <td>5185</td>\n",
              "      <td>1</td>\n",
              "    </tr>\n",
              "  </tbody>\n",
              "</table>\n",
              "</div>"
            ],
            "text/plain": [
              "   Unnamed: 0  Channel  Region  ...  Detergents_Paper  Delicassen  label\n",
              "0           0        2       3  ...              2674        1338      1\n",
              "1           1        2       3  ...              3293        1776      1\n",
              "2           2        2       3  ...              3516        7844      1\n",
              "3           3        1       3  ...               507        1788      0\n",
              "4           4        2       3  ...              1777        5185      1\n",
              "\n",
              "[5 rows x 10 columns]"
            ]
          },
          "metadata": {
            "tags": []
          },
          "execution_count": 3
        }
      ]
    },
    {
      "cell_type": "markdown",
      "metadata": {
        "id": "toWkFmCp5GKj"
      },
      "source": [
        "# 요즘 가장 각광받고 있는 모델이 시초 Decision Tree\n",
        "> XG 부스트 의 시조격!\n",
        "성능 측정을 안할거라 standard scaler 만"
      ]
    },
    {
      "cell_type": "code",
      "metadata": {
        "colab": {
          "base_uri": "https://localhost:8080/"
        },
        "id": "XK2tTEvH5j-5",
        "outputId": "aff1a896-fe69-473b-9a77-76b1272535cd"
      },
      "source": [
        "Y = df['label']\n",
        "X = df.iloc[:,1:9]\n",
        "Y.shape, X.shape"
      ],
      "execution_count": 4,
      "outputs": [
        {
          "output_type": "execute_result",
          "data": {
            "text/plain": [
              "((440,), (440, 8))"
            ]
          },
          "metadata": {
            "tags": []
          },
          "execution_count": 4
        }
      ]
    },
    {
      "cell_type": "code",
      "metadata": {
        "colab": {
          "base_uri": "https://localhost:8080/"
        },
        "id": "g7d-p_tZ9Ss0",
        "outputId": "372986a7-43df-4801-a386-3dbaac75f163"
      },
      "source": [
        "from sklearn.tree import DecisionTreeClassifier # 디시전 트리와 회귀 분석과는 어울리지 않음.\n",
        "dtree = DecisionTreeClassifier()\n",
        "# split 단계 생략\n",
        "dtree.fit(X, Y)"
      ],
      "execution_count": 7,
      "outputs": [
        {
          "output_type": "execute_result",
          "data": {
            "text/plain": [
              "DecisionTreeClassifier(ccp_alpha=0.0, class_weight=None, criterion='gini',\n",
              "                       max_depth=None, max_features=None, max_leaf_nodes=None,\n",
              "                       min_impurity_decrease=0.0, min_impurity_split=None,\n",
              "                       min_samples_leaf=1, min_samples_split=2,\n",
              "                       min_weight_fraction_leaf=0.0, presort='deprecated',\n",
              "                       random_state=None, splitter='best')"
            ]
          },
          "metadata": {
            "tags": []
          },
          "execution_count": 7
        }
      ]
    },
    {
      "cell_type": "code",
      "metadata": {
        "colab": {
          "base_uri": "https://localhost:8080/"
        },
        "id": "U5aJC8Fy9vtk",
        "outputId": "5949a4fd-d294-4364-bad2-5492994ad7ac"
      },
      "source": [
        "dtree.score(X, Y)"
      ],
      "execution_count": 8,
      "outputs": [
        {
          "output_type": "execute_result",
          "data": {
            "text/plain": [
              "1.0"
            ]
          },
          "metadata": {
            "tags": []
          },
          "execution_count": 8
        }
      ]
    },
    {
      "cell_type": "code",
      "metadata": {
        "id": "UzZIg0wI-FdK"
      },
      "source": [
        ""
      ],
      "execution_count": null,
      "outputs": []
    }
  ]
}